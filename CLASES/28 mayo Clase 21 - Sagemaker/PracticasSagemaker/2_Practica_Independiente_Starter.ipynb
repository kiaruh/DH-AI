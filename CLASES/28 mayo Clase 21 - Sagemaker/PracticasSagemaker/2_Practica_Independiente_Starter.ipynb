{
 "cells": [
  {
   "cell_type": "markdown",
   "metadata": {},
   "source": [
    "# Práctica Independiente\n",
    "\n",
    "En esta práctica vamos a utilizar el modelo que guardamos en la carpeta model en la práctica anterior y vamos a implementarlo en el Tensorflow Serving Container."
   ]
  },
  {
   "cell_type": "markdown",
   "metadata": {},
   "source": [
    "Paso 1. Importemos las librerías"
   ]
  },
  {
   "cell_type": "code",
   "execution_count": 1,
   "metadata": {},
   "outputs": [],
   "source": [
    "import os\n",
    "import sagemaker\n",
    "from sagemaker.tensorflow.serving import Model\n",
    "import tensorflow as tf\n",
    "import numpy as np\n",
    "from sagemaker import get_execution_role\n",
    "import numpy as np\n",
    "import cv2\n",
    "from matplotlib import pyplot as mlt\n",
    "import boto3\n",
    "import json\n",
    "from tensorflow.keras.preprocessing.image import ImageDataGenerator"
   ]
  },
  {
   "cell_type": "markdown",
   "metadata": {},
   "source": [
    "Paso 2. SageMaker requiere que construyamos un archivo tar.gz para pasárselo al tensorflow serving container. Recuerden que el container puede recibir varios modelos, por eso al guardar el modelo lo pusimos en una carpeta llamada /1 y ahora vamos a comprimirla en formato .tar.gz."
   ]
  },
  {
   "cell_type": "code",
   "execution_count": null,
   "metadata": {},
   "outputs": [],
   "source": []
  },
  {
   "cell_type": "markdown",
   "metadata": {},
   "source": [
    "Paso 3. Tenemos que subir el model.tar.gz a S3 y guardarnos la ubicación en un string. Pueden usar el SDK a través de sagemaker.Session().upload_data o investigar el comando bash aws s3 cp"
   ]
  },
  {
   "cell_type": "code",
   "execution_count": null,
   "metadata": {},
   "outputs": [],
   "source": []
  },
  {
   "cell_type": "code",
   "execution_count": null,
   "metadata": {},
   "outputs": [],
   "source": []
  },
  {
   "cell_type": "markdown",
   "metadata": {},
   "source": [
    "Paso 4. Utilizar el SDK para crear el tensorflow_serving_model"
   ]
  },
  {
   "cell_type": "code",
   "execution_count": null,
   "metadata": {},
   "outputs": [],
   "source": []
  },
  {
   "cell_type": "code",
   "execution_count": null,
   "metadata": {},
   "outputs": [],
   "source": []
  },
  {
   "cell_type": "markdown",
   "metadata": {},
   "source": [
    "Paso 4. Utilizar el método deploy para desplegar el modelo sobre una infraestructura. Como tipo de instancia pueden elegir el ml.m5.large"
   ]
  },
  {
   "cell_type": "code",
   "execution_count": null,
   "metadata": {},
   "outputs": [],
   "source": []
  },
  {
   "cell_type": "markdown",
   "metadata": {},
   "source": [
    "Paso 5. Carguemos en memoria los features y labels de test en variables utilizando np.load"
   ]
  },
  {
   "cell_type": "code",
   "execution_count": null,
   "metadata": {},
   "outputs": [],
   "source": []
  },
  {
   "cell_type": "code",
   "execution_count": null,
   "metadata": {},
   "outputs": [],
   "source": []
  },
  {
   "cell_type": "markdown",
   "metadata": {},
   "source": [
    "Paso 6: Crear el payload para el modelo. Para eso necesario armar un diccionario con la key instances y una lista de instancias. Los numpy arrays no son serializables. Para hacerlos serializables, es necesario utilizar el método tolist().\n",
    "\n",
    "Recurden armar un predict_batch con una de las instancias. El shape de la variable predict_batch debería ser (1, 8192)"
   ]
  },
  {
   "cell_type": "code",
   "execution_count": null,
   "metadata": {},
   "outputs": [],
   "source": []
  },
  {
   "cell_type": "code",
   "execution_count": null,
   "metadata": {},
   "outputs": [],
   "source": []
  },
  {
   "cell_type": "markdown",
   "metadata": {},
   "source": [
    "Paso 7: Pueden utilizar el método predict() del predictor para obtener las predicciones"
   ]
  },
  {
   "cell_type": "code",
   "execution_count": null,
   "metadata": {},
   "outputs": [],
   "source": []
  },
  {
   "cell_type": "code",
   "execution_count": null,
   "metadata": {},
   "outputs": [],
   "source": []
  },
  {
   "cell_type": "code",
   "execution_count": null,
   "metadata": {},
   "outputs": [],
   "source": []
  }
 ],
 "metadata": {
  "kernelspec": {
   "display_name": "conda_python3",
   "language": "python",
   "name": "conda_python3"
  },
  "language_info": {
   "codemirror_mode": {
    "name": "ipython",
    "version": 3
   },
   "file_extension": ".py",
   "mimetype": "text/x-python",
   "name": "python",
   "nbconvert_exporter": "python",
   "pygments_lexer": "ipython3",
   "version": "3.6.5"
  }
 },
 "nbformat": 4,
 "nbformat_minor": 4
}
