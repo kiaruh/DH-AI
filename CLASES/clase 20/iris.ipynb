{
 "cells": [
  {
   "cell_type": "markdown",
   "metadata": {
    "colab_type": "text",
    "id": "Zn-SzvN_pd6F"
   },
   "source": [
    "# Iris Flower classifier"
   ]
  },
  {
   "cell_type": "code",
   "execution_count": null,
   "metadata": {},
   "outputs": [],
   "source": [
    "import warnings\n",
    "warnings.filterwarnings('ignore')"
   ]
  },
  {
   "cell_type": "code",
   "execution_count": null,
   "metadata": {
    "colab": {
     "autoexec": {
      "startup": false,
      "wait_interval": 0
     },
     "base_uri": "https://localhost:8080/",
     "height": 113
    },
    "colab_type": "code",
    "executionInfo": {
     "elapsed": 1406,
     "status": "ok",
     "timestamp": 1525300096805,
     "user": {
      "displayName": "Ramiro Savoie",
      "photoUrl": "//lh6.googleusercontent.com/-nvircRVyhys/AAAAAAAAAAI/AAAAAAAAkZc/bDG7THSJMxQ/s50-c-k-no/photo.jpg",
      "userId": "103932675305159588469"
     },
     "user_tz": 180
    },
    "id": "sOYTXpCldDgm",
    "outputId": "3bb0fc4b-e7d7-48d8-ea54-b3cb91a566b2"
   },
   "outputs": [],
   "source": [
    "# SciPy\n",
    "import numpy as np\n",
    "import pandas as pd\n",
    "import seaborn as sns\n",
    "import matplotlib.pyplot as plt\n",
    "%matplotlib inline\n",
    "\n",
    "import os\n",
    "import pickle\n",
    "import requests as req\n",
    "from io import BytesIO\n",
    "import boto3\n",
    "\n",
    "# MachineLearning\n",
    "from sklearn.preprocessing import LabelEncoder, StandardScaler\n",
    "from sklearn.model_selection import train_test_split\n",
    "from sklearn.naive_bayes import GaussianNB\n",
    "from sklearn.metrics import accuracy_score\n",
    "from sklearn.metrics import confusion_matrix\n",
    "from sklearn.neighbors import KNeighborsClassifier\n",
    "from sklearn.ensemble import RandomForestClassifier\n",
    "from sklearn.model_selection import cross_val_score\n",
    "# from sklearn.grid_search import GridSearchCV\n",
    "from sklearn.model_selection import GridSearchCV\n",
    "from keras.utils.np_utils import to_categorical\n",
    "\n",
    "# DeepLearning\n",
    "import keras\n",
    "from keras import models\n",
    "from keras import layers\n",
    "\n",
    "# Main modules\n",
    "import predictions as pr\n",
    "import aws_utils as au"
   ]
  },
  {
   "cell_type": "code",
   "execution_count": null,
   "metadata": {},
   "outputs": [],
   "source": [
    "BUCKET_NAME = 'models-in-prod'\n",
    "FOLDER = 'dist'"
   ]
  },
  {
   "cell_type": "code",
   "execution_count": null,
   "metadata": {
    "colab": {
     "autoexec": {
      "startup": false,
      "wait_interval": 0
     },
     "base_uri": "https://localhost:8080/",
     "height": 204
    },
    "colab_type": "code",
    "executionInfo": {
     "elapsed": 627,
     "status": "ok",
     "timestamp": 1525300101089,
     "user": {
      "displayName": "Ramiro Savoie",
      "photoUrl": "//lh6.googleusercontent.com/-nvircRVyhys/AAAAAAAAAAI/AAAAAAAAkZc/bDG7THSJMxQ/s50-c-k-no/photo.jpg",
      "userId": "103932675305159588469"
     },
     "user_tz": 180
    },
    "id": "HMMXVhPddVHq",
    "outputId": "bd0be447-8111-4623-a907-9ecbee138297"
   },
   "outputs": [],
   "source": [
    "iris = sns.load_dataset('iris')"
   ]
  },
  {
   "cell_type": "code",
   "execution_count": null,
   "metadata": {
    "colab": {
     "autoexec": {
      "startup": false,
      "wait_interval": 0
     },
     "base_uri": "https://localhost:8080/",
     "height": 74
    },
    "colab_type": "code",
    "executionInfo": {
     "elapsed": 676,
     "status": "ok",
     "timestamp": 1525300102469,
     "user": {
      "displayName": "Ramiro Savoie",
      "photoUrl": "//lh6.googleusercontent.com/-nvircRVyhys/AAAAAAAAAAI/AAAAAAAAkZc/bDG7THSJMxQ/s50-c-k-no/photo.jpg",
      "userId": "103932675305159588469"
     },
     "user_tz": 180
    },
    "id": "RXXZBHR8dZsR",
    "outputId": "d9c494bc-db8e-4b12-93e6-3d6f285f828d"
   },
   "outputs": [],
   "source": [
    "iris.info()"
   ]
  },
  {
   "cell_type": "code",
   "execution_count": null,
   "metadata": {},
   "outputs": [],
   "source": [
    "# Without normalize and with the target on text\n",
    "iris.sample(5)"
   ]
  },
  {
   "cell_type": "code",
   "execution_count": null,
   "metadata": {
    "colab": {
     "autoexec": {
      "startup": false,
      "wait_interval": 0
     },
     "base_uri": "https://localhost:8080/",
     "height": 986
    },
    "colab_type": "code",
    "executionInfo": {
     "elapsed": 4928,
     "status": "ok",
     "timestamp": 1525300108701,
     "user": {
      "displayName": "Ramiro Savoie",
      "photoUrl": "//lh6.googleusercontent.com/-nvircRVyhys/AAAAAAAAAAI/AAAAAAAAkZc/bDG7THSJMxQ/s50-c-k-no/photo.jpg",
      "userId": "103932675305159588469"
     },
     "user_tz": 180
    },
    "id": "huvp7b6me7CS",
    "outputId": "77a6e221-0f16-4f76-f94c-02c851a8114e"
   },
   "outputs": [],
   "source": [
    "sns.pairplot(iris, hue='species', size=3.4);"
   ]
  },
  {
   "cell_type": "markdown",
   "metadata": {
    "colab_type": "text",
    "id": "uQbKGnCX-wYi"
   },
   "source": [
    "## Primer modelo"
   ]
  },
  {
   "cell_type": "code",
   "execution_count": null,
   "metadata": {},
   "outputs": [],
   "source": [
    "def fit_normalizer(input_data):\n",
    "    \"\"\"\n",
    "        Fit a Sklearn Normalizer based on input_data.\n",
    "    \"\"\"    \n",
    "    scaler = StandardScaler()\n",
    "    print('Fitting a Normalizer with given input')    \n",
    "    scaler.fit(input_data)\n",
    "    \n",
    "    file_name = 'normalizer.pkl'\n",
    "    with open(os.path.join(FOLDER, file_name), 'wb') as f:\n",
    "        pickle.dump(scaler, f)\n",
    "    \n",
    "    # TODO Part 2\n",
    "    # au.upload_to_s3(BUCKET_NAME, FOLDER, file_name)        \n",
    "    \n",
    "    print('Normalizer saved')\n",
    "    return scaler"
   ]
  },
  {
   "cell_type": "code",
   "execution_count": null,
   "metadata": {},
   "outputs": [],
   "source": [
    "normalizer = fit_normalizer(iris.drop(\"species\", axis=1))"
   ]
  },
  {
   "cell_type": "code",
   "execution_count": null,
   "metadata": {},
   "outputs": [],
   "source": [
    "X = normalizer.transform(iris.drop(\"species\", axis=1))"
   ]
  },
  {
   "cell_type": "code",
   "execution_count": null,
   "metadata": {},
   "outputs": [],
   "source": [
    "def fit_encoder(target_list):\n",
    "    \"\"\"\n",
    "        Fit a Sklearn LabelEncoder based on target_list.\n",
    "    \"\"\"    \n",
    "    encoder = LabelEncoder()\n",
    "    print('Fitting a LabelEncoder with given target')\n",
    "    encoder.fit(target_list)    \n",
    "    \n",
    "    print('Found classes', encoder.classes_)\n",
    "    print('Testing encoder', encoder.transform(encoder.classes_))\n",
    "    \n",
    "    file_name = 'encoder.pkl'\n",
    "    with open(os.path.join(FOLDER, file_name), 'wb') as f:\n",
    "        pickle.dump(encoder, f)\n",
    "\n",
    "    # TODO Part 2        \n",
    "    # au.upload_to_s3(BUCKET_NAME, FOLDER, file_name)        \n",
    "    \n",
    "    print('Encoder saved')\n",
    "    return encoder"
   ]
  },
  {
   "cell_type": "code",
   "execution_count": null,
   "metadata": {},
   "outputs": [],
   "source": [
    "# All the target column\n",
    "target_list = iris['species'].tolist()\n",
    "encoder = fit_encoder(target_list)"
   ]
  },
  {
   "cell_type": "code",
   "execution_count": null,
   "metadata": {},
   "outputs": [],
   "source": [
    "def encode_and_one_hot_target(target_list, encoder):\n",
    "    print('Encoding target with given encoder')\n",
    "    targets_encoded = encoder.transform(target_list)\n",
    "\n",
    "    print('Convert encoded classes integers to dummy variables')\n",
    "    targets_one_hot = to_categorical(targets_encoded)\n",
    "    \n",
    "    print('Target final shape', targets_one_hot.shape)\n",
    "    return targets_one_hot"
   ]
  },
  {
   "cell_type": "code",
   "execution_count": null,
   "metadata": {},
   "outputs": [],
   "source": [
    "Y = encode_and_one_hot_target(target_list, encoder)"
   ]
  },
  {
   "cell_type": "code",
   "execution_count": null,
   "metadata": {
    "colab": {
     "autoexec": {
      "startup": false,
      "wait_interval": 0
     }
    },
    "colab_type": "code",
    "id": "X1COaB3owHG1"
   },
   "outputs": [],
   "source": [
    "X_train, X_test, y_train, y_test = train_test_split(X, Y, random_state=1, test_size = .33)"
   ]
  },
  {
   "cell_type": "code",
   "execution_count": null,
   "metadata": {
    "colab": {
     "autoexec": {
      "startup": false,
      "wait_interval": 0
     },
     "base_uri": "https://localhost:8080/",
     "height": 36
    },
    "colab_type": "code",
    "executionInfo": {
     "elapsed": 642,
     "status": "ok",
     "timestamp": 1525300116993,
     "user": {
      "displayName": "Ramiro Savoie",
      "photoUrl": "//lh6.googleusercontent.com/-nvircRVyhys/AAAAAAAAAAI/AAAAAAAAkZc/bDG7THSJMxQ/s50-c-k-no/photo.jpg",
      "userId": "103932675305159588469"
     },
     "user_tz": 180
    },
    "id": "ma1zvYXrx-wr",
    "outputId": "34baa5da-d1ff-47e6-d6ed-2f961c0210ee"
   },
   "outputs": [],
   "source": [
    "X_train.shape"
   ]
  },
  {
   "cell_type": "code",
   "execution_count": null,
   "metadata": {
    "colab": {
     "autoexec": {
      "startup": false,
      "wait_interval": 0
     },
     "base_uri": "https://localhost:8080/",
     "height": 36
    },
    "colab_type": "code",
    "executionInfo": {
     "elapsed": 864,
     "status": "ok",
     "timestamp": 1525300118030,
     "user": {
      "displayName": "Ramiro Savoie",
      "photoUrl": "//lh6.googleusercontent.com/-nvircRVyhys/AAAAAAAAAAI/AAAAAAAAkZc/bDG7THSJMxQ/s50-c-k-no/photo.jpg",
      "userId": "103932675305159588469"
     },
     "user_tz": 180
    },
    "id": "lfgEkUDMyCg2",
    "outputId": "9ce58f11-e018-45cf-b01d-4318bebdd081"
   },
   "outputs": [],
   "source": [
    "X_test.shape"
   ]
  },
  {
   "cell_type": "code",
   "execution_count": null,
   "metadata": {
    "colab": {
     "autoexec": {
      "startup": false,
      "wait_interval": 0
     },
     "base_uri": "https://localhost:8080/",
     "height": 36
    },
    "colab_type": "code",
    "executionInfo": {
     "elapsed": 637,
     "status": "ok",
     "timestamp": 1525300118852,
     "user": {
      "displayName": "Ramiro Savoie",
      "photoUrl": "//lh6.googleusercontent.com/-nvircRVyhys/AAAAAAAAAAI/AAAAAAAAkZc/bDG7THSJMxQ/s50-c-k-no/photo.jpg",
      "userId": "103932675305159588469"
     },
     "user_tz": 180
    },
    "id": "y-2ZQ1nHFuJK",
    "outputId": "426ea48e-10b3-40bc-f512-2ab1f29cc49c"
   },
   "outputs": [],
   "source": [
    "y_train.shape"
   ]
  },
  {
   "cell_type": "code",
   "execution_count": null,
   "metadata": {
    "colab": {
     "autoexec": {
      "startup": false,
      "wait_interval": 0
     },
     "base_uri": "https://localhost:8080/",
     "height": 36
    },
    "colab_type": "code",
    "executionInfo": {
     "elapsed": 647,
     "status": "ok",
     "timestamp": 1525300119694,
     "user": {
      "displayName": "Ramiro Savoie",
      "photoUrl": "//lh6.googleusercontent.com/-nvircRVyhys/AAAAAAAAAAI/AAAAAAAAkZc/bDG7THSJMxQ/s50-c-k-no/photo.jpg",
      "userId": "103932675305159588469"
     },
     "user_tz": 180
    },
    "id": "y33dG30WFuJO",
    "outputId": "ef5ef877-93b4-4359-c0c3-d5e678f95b2b"
   },
   "outputs": [],
   "source": [
    "y_test.shape"
   ]
  },
  {
   "cell_type": "code",
   "execution_count": null,
   "metadata": {
    "colab": {
     "autoexec": {
      "startup": false,
      "wait_interval": 0
     }
    },
    "colab_type": "code",
    "id": "CmFt0h1JIQXw"
   },
   "outputs": [],
   "source": [
    "def fit_knn(X_train, y_train):\n",
    "    \"\"\"\n",
    "        Fits a KNN model, saves the model weights and return it.\n",
    "    \"\"\"\n",
    "    # Instantiate the model learning model (k=3)\n",
    "    knn = KNeighborsClassifier(n_neighbors=3)\n",
    "    \n",
    "    # Fitting the model\n",
    "    print('Fitting model')\n",
    "    model = knn.fit(X_train, y_train)\n",
    "    \n",
    "    file_name = 'model.pkl'\n",
    "    with open(os.path.join(FOLDER, file_name), 'wb') as f:\n",
    "        pickle.dump(model, f)\n",
    "      \n",
    "    # TODO Part 2    \n",
    "    # au.upload_to_s3(BUCKET_NAME, FOLDER, file_name)        \n",
    "\n",
    "    print('Model saved')\n",
    "    return model"
   ]
  },
  {
   "cell_type": "code",
   "execution_count": null,
   "metadata": {
    "colab": {
     "autoexec": {
      "startup": false,
      "wait_interval": 0
     },
     "base_uri": "https://localhost:8080/",
     "height": 74
    },
    "colab_type": "code",
    "executionInfo": {
     "elapsed": 595,
     "status": "ok",
     "timestamp": 1525300124886,
     "user": {
      "displayName": "Ramiro Savoie",
      "photoUrl": "//lh6.googleusercontent.com/-nvircRVyhys/AAAAAAAAAAI/AAAAAAAAkZc/bDG7THSJMxQ/s50-c-k-no/photo.jpg",
      "userId": "103932675305159588469"
     },
     "user_tz": 180
    },
    "id": "UpTA7eVpIhHB",
    "outputId": "49a725f9-b75f-4aee-fa47-e1cd57059a7d"
   },
   "outputs": [],
   "source": [
    "model = fit_knn(X_train, y_train)"
   ]
  },
  {
   "cell_type": "code",
   "execution_count": null,
   "metadata": {
    "colab": {
     "autoexec": {
      "startup": false,
      "wait_interval": 0
     }
    },
    "colab_type": "code",
    "id": "3zHHNB5VIhWI"
   },
   "outputs": [],
   "source": [
    "Y_pred = model.predict(X_test)"
   ]
  },
  {
   "cell_type": "code",
   "execution_count": null,
   "metadata": {
    "colab": {
     "autoexec": {
      "startup": false,
      "wait_interval": 0
     },
     "base_uri": "https://localhost:8080/",
     "height": 36
    },
    "colab_type": "code",
    "executionInfo": {
     "elapsed": 587,
     "status": "ok",
     "timestamp": 1525300126347,
     "user": {
      "displayName": "Ramiro Savoie",
      "photoUrl": "//lh6.googleusercontent.com/-nvircRVyhys/AAAAAAAAAAI/AAAAAAAAkZc/bDG7THSJMxQ/s50-c-k-no/photo.jpg",
      "userId": "103932675305159588469"
     },
     "user_tz": 180
    },
    "id": "z1nlOsGYFuJo",
    "outputId": "0b1e1e5a-3613-42cf-f4e3-8f53a6144356"
   },
   "outputs": [],
   "source": [
    "accuracy_score(y_test, Y_pred)"
   ]
  },
  {
   "cell_type": "markdown",
   "metadata": {},
   "source": [
    "## Modelo exportado"
   ]
  },
  {
   "cell_type": "markdown",
   "metadata": {},
   "source": [
    "![Exported models](img/exported-models.png)"
   ]
  },
  {
   "cell_type": "markdown",
   "metadata": {},
   "source": [
    "## flask: predictions.predict()"
   ]
  },
  {
   "cell_type": "code",
   "execution_count": null,
   "metadata": {},
   "outputs": [],
   "source": [
    "# From package\n",
    "versicolor = [6.3, 2.5, 4.9, 1.5]\n",
    "virginica = [7.9, 3.8, 6.4, 2.0]\n",
    "pr.predict(versicolor)"
   ]
  },
  {
   "cell_type": "markdown",
   "metadata": {},
   "source": [
    "## flask: app.classify()"
   ]
  },
  {
   "cell_type": "markdown",
   "metadata": {},
   "source": [
    "```bash\n",
    "# Run flask!\n",
    "python app.py\n",
    "```"
   ]
  },
  {
   "cell_type": "code",
   "execution_count": null,
   "metadata": {},
   "outputs": [],
   "source": [
    "# From Browser\n",
    "req.get('http://localhost:5000/classify?sepal_length=5.1&sepal_width=3.5&petal_length=1.4&petal_width=0.2').json()"
   ]
  },
  {
   "cell_type": "code",
   "execution_count": null,
   "metadata": {},
   "outputs": [],
   "source": [
    "# Show server log"
   ]
  },
  {
   "cell_type": "markdown",
   "metadata": {},
   "source": [
    "## Packaging & Deploy"
   ]
  },
  {
   "cell_type": "markdown",
   "metadata": {},
   "source": [
    "- Exportar todas las dependencias utilizadas a un archivo requirements.txt (con versión)  \n",
    "![requirements.txt](img/requirements.txt.png)\n",
    "- Armar y probar la aplicación en un virtual environment\n",
    "- ¿Que es un virtual environment? Permite empaquetar el ejecutable de python y los módulos instalados.\n",
    "- Todo esto prepara la aplicación para correr en la nube."
   ]
  },
  {
   "cell_type": "markdown",
   "metadata": {},
   "source": [
    "```bash\n",
    "# Install virtual environments\n",
    "pip install virtualenv\n",
    "\n",
    "# Create virtual environment with new python executable\n",
    "virtualenv env --python=python3.7\n",
    "\n",
    "# Activate it, prompt changes\n",
    "source env/bin/activate\n",
    "\n",
    "# Install all dependencies in requirements.txt\n",
    "pip install -r requirements.txt\n",
    "\n",
    "# Test the app inside virtual environment, stop the above\n",
    "python app.py\n",
    "\n",
    "# Zip the app, without virtual environment\n",
    "zip -r models-in-production.zip app.py predictions.py aws_utils.py config.py requirements.txt dist\n",
    "```"
   ]
  },
  {
   "cell_type": "markdown",
   "metadata": {},
   "source": [
    "## EC2 Tutorial"
   ]
  },
  {
   "cell_type": "markdown",
   "metadata": {},
   "source": [
    "![ec2-step-1](img/ec2-step-1.png)  \n",
    "![ec2-step-2](img/ec2-step-2.png)  \n",
    "![ec2-step-3](img/ec2-step-3.png)  \n",
    "![ec2-step-4](img/ec2-step-4.png)  \n",
    "![ec2-step-5](img/ec2-step-5.png)  \n",
    "![ec2-step-6](img/ec2-step-6.png)  \n",
    "![ec2-step-7](img/ec2-step-7.png)  \n",
    "![ec2-step-8](img/ec2-step-8.png)  \n",
    "![ec2-step-9](img/ec2-step-9.png)  \n",
    "![ec2-step-10](img/ec2-step-10.png)  "
   ]
  },
  {
   "cell_type": "markdown",
   "metadata": {},
   "source": [
    "## Obtener el DNS público de la instancia"
   ]
  },
  {
   "cell_type": "markdown",
   "metadata": {},
   "source": [
    "![Public DNS](img/public-dns.png)"
   ]
  },
  {
   "cell_type": "markdown",
   "metadata": {},
   "source": [
    "![connect-to-instance](img/connect-to-instance.png)"
   ]
  },
  {
   "cell_type": "markdown",
   "metadata": {},
   "source": [
    "```bash\n",
    "# Cloud: Connect to instance\n",
    "ssh -i ~/.ssh/ramiro.savoie.pem ubuntu@ec2-35-167-97-63.us-west-2.compute.amazonaws.com\n",
    "\n",
    "# Cloud: Install python 3.7, pip. virtualenv and unzip\n",
    "sudo add-apt-repository ppa:deadsnakes/ppa && sudo apt-get update && sudo apt-get install -y unzip python3.7 python3-pip virtualenv\n",
    "\n",
    "# Upload the packaged app\n",
    "scp models-in-production.zip ubuntu@ec2-35-167-97-63.us-west-2.compute.amazonaws.com:/home/ubuntu\n",
    "\n",
    "# Cloud\n",
    "unzip -o models-in-production.zip\n",
    "\n",
    "# Cloud, same steps as local\n",
    "virtualenv env --python=python3.7\n",
    "source env/bin/activate\n",
    "pip install -r requirements.txt\n",
    "python app.py\n",
    "```"
   ]
  },
  {
   "cell_type": "markdown",
   "metadata": {},
   "source": [
    "```bash\n",
    "# Extra\n",
    "# nohup means: do not terminate this process even when the stty is cut off.\n",
    "# & at the end means: run this command as a background task\n",
    "nohup python app.py &\n",
    "ps -ef | grep app.py\n",
    "# https://stackoverflow.com/questions/17385794/how-to-get-the-process-id-to-kill-a-nohup-process\n",
    "# https://stackoverflow.com/questions/23029443/run-python-flask-on-ec2-in-the-backgroud\n",
    "```"
   ]
  },
  {
   "cell_type": "code",
   "execution_count": null,
   "metadata": {},
   "outputs": [],
   "source": [
    "# Browser with Public DNS.\n",
    "req.get('http://ec2-35-167-97-63.us-west-2.compute.amazonaws.com:5000/classify?sepal_length=5.1&sepal_width=3.5&petal_length=1.4&petal_width=0.2').json()"
   ]
  },
  {
   "cell_type": "markdown",
   "metadata": {},
   "source": [
    "## Tutorial de S3"
   ]
  },
  {
   "cell_type": "markdown",
   "metadata": {},
   "source": [
    "![s3-overview](img/s3-overview.png)  "
   ]
  },
  {
   "cell_type": "markdown",
   "metadata": {},
   "source": [
    "## Modelo dinámico"
   ]
  },
  {
   "cell_type": "markdown",
   "metadata": {},
   "source": [
    "¿Que es más probable que cambie, el modelo o la API?"
   ]
  },
  {
   "cell_type": "code",
   "execution_count": null,
   "metadata": {},
   "outputs": [],
   "source": [
    "## Create a bucket named `models-in-prod`"
   ]
  },
  {
   "cell_type": "code",
   "execution_count": null,
   "metadata": {},
   "outputs": [],
   "source": [
    "## Upload model with S3 UI"
   ]
  },
  {
   "cell_type": "code",
   "execution_count": null,
   "metadata": {},
   "outputs": [],
   "source": [
    "## Present aws_utils.py"
   ]
  },
  {
   "cell_type": "code",
   "execution_count": null,
   "metadata": {},
   "outputs": [],
   "source": [
    "## Uncomment TOOO Part 2 in predictions.fetch_pickle()"
   ]
  },
  {
   "cell_type": "code",
   "execution_count": null,
   "metadata": {},
   "outputs": [],
   "source": [
    "## Delete dist content"
   ]
  },
  {
   "cell_type": "markdown",
   "metadata": {},
   "source": [
    "```bash\n",
    "# Stop service in instance\n",
    "\n",
    "# Zip the new app\n",
    "zip -r models-in-production.zip app.py predictions.py aws_utils.py config.py requirements.txt dist\n",
    "\n",
    "# Upload the new packaged app\n",
    "scp models-in-production.zip ubuntu@ubuntu@ec2-3-16-22-139.us-east-2.compute.amazonaws.com:/home/ubuntu\n",
    "\n",
    "# Cloud\n",
    "unzip -o models-in-production.zip\n",
    "\n",
    "# Cloud, restart service\n",
    "python app.py\n",
    "```"
   ]
  },
  {
   "cell_type": "code",
   "execution_count": null,
   "metadata": {},
   "outputs": [],
   "source": [
    "# Browser with Public DNS.\n",
    "req.get('http://ec2-35-167-97-63.us-west-2.compute.amazonaws.com:5000/classify?sepal_length=5.1&sepal_width=3.5&petal_length=1.4&petal_width=0.2').json()"
   ]
  },
  {
   "cell_type": "markdown",
   "metadata": {
    "colab_type": "text",
    "id": "AxXlazZWVd-C"
   },
   "source": [
    "## Segundo modelo"
   ]
  },
  {
   "cell_type": "code",
   "execution_count": null,
   "metadata": {
    "colab": {
     "autoexec": {
      "startup": false,
      "wait_interval": 0
     }
    },
    "colab_type": "code",
    "id": "meTa6S-RNFB7"
   },
   "outputs": [],
   "source": [
    "def fit_random_forest(X_train, y_train):\n",
    "    \"\"\"\n",
    "        Fits a Random Forest model, saves the model weights, uploads to S3 and return it.\n",
    "    \"\"\"    \n",
    "    rfc = RandomForestClassifier(n_jobs=-1, criterion = 'entropy', random_state = 0, max_features= 'sqrt')  \n",
    "\n",
    "    param_grid = {  \n",
    "               \"n_estimators\" : [5, 8, 10],  \n",
    "               \"max_depth\" : [4, 5, 6],  \n",
    "               \"min_samples_leaf\" : [8, 10, 12]}  \n",
    "\n",
    "    CV_rf = GridSearchCV(estimator=rfc, param_grid=param_grid, cv=5)\n",
    "    \n",
    "    CV_rf.fit(X_train, y_train)    \n",
    "    print(f'best_params: {CV_rf.best_params_}')\n",
    "    \n",
    "    file_name = 'model.pkl'\n",
    "    with open(os.path.join(FOLDER, file_name), 'wb') as f:\n",
    "        pickle.dump(model, f)\n",
    "    \n",
    "    # TODO Part 2, uncomment all Step 2 above in fit_normalizer() and fit_encoder() and run\n",
    "    # au.upload_to_s3(BUCKET_NAME, FOLDER, file_name)   \n",
    "    \n",
    "    return CV_rf"
   ]
  },
  {
   "cell_type": "code",
   "execution_count": null,
   "metadata": {},
   "outputs": [],
   "source": [
    "model = fit_random_forest(X_train, y_train)"
   ]
  },
  {
   "cell_type": "code",
   "execution_count": null,
   "metadata": {},
   "outputs": [],
   "source": [
    "# Updated in S3 UI"
   ]
  },
  {
   "cell_type": "code",
   "execution_count": null,
   "metadata": {
    "colab": {
     "autoexec": {
      "startup": false,
      "wait_interval": 0
     }
    },
    "colab_type": "code",
    "id": "a9JlVZMCFuJ3"
   },
   "outputs": [],
   "source": [
    "y_pred = model.predict(X_test)"
   ]
  },
  {
   "cell_type": "code",
   "execution_count": null,
   "metadata": {},
   "outputs": [],
   "source": [
    "accuracy_score(y_test, Y_pred)"
   ]
  },
  {
   "cell_type": "code",
   "execution_count": null,
   "metadata": {},
   "outputs": [],
   "source": [
    "# Browser with Public DNS.\n",
    "req.get('http://ec2-35-167-97-63.us-west-2.compute.amazonaws.com:5000/classify?sepal_length=5.1&sepal_width=3.5&petal_length=1.4&petal_width=0.2').json()"
   ]
  },
  {
   "cell_type": "markdown",
   "metadata": {
    "colab_type": "text",
    "id": "8YzlG5AaFuJ-"
   },
   "source": [
    "## Tercer Modelo"
   ]
  },
  {
   "cell_type": "code",
   "execution_count": null,
   "metadata": {
    "colab": {
     "autoexec": {
      "startup": false,
      "wait_interval": 0
     }
    },
    "colab_type": "code",
    "id": "eb9vo0QiFuKC"
   },
   "outputs": [],
   "source": [
    "x_train, x_test, Y_train, Y_test = train_test_split(X, Y, random_state=1, test_size = .33)"
   ]
  },
  {
   "cell_type": "code",
   "execution_count": null,
   "metadata": {
    "colab": {
     "autoexec": {
      "startup": false,
      "wait_interval": 0
     }
    },
    "colab_type": "code",
    "id": "MLrDSeCIvkgO"
   },
   "outputs": [],
   "source": [
    "def print_figure(training_values, validation_values, metric):\n",
    "    epochs = range(1, len(training_values) + 1)\n",
    "    \n",
    "    plt.clf()\n",
    "    plt.plot(epochs, training_values, 'bo', label='Training ' + metric) # bo es blue dot\n",
    "    plt.plot(epochs, validation_values, 'b', label='Validation ' + metric)\n",
    "    plt.title('Training and validation ' + metric)\n",
    "    plt.xlabel('Epochs')\n",
    "    plt.ylabel(metric)\n",
    "    plt.legend()\n",
    "\n",
    "    plt.show()   "
   ]
  },
  {
   "cell_type": "code",
   "execution_count": null,
   "metadata": {
    "colab": {
     "autoexec": {
      "startup": false,
      "wait_interval": 0
     }
    },
    "colab_type": "code",
    "id": "QOTWX0hUvkgP"
   },
   "outputs": [],
   "source": [
    "def print_loss(history):\n",
    "    history_dict = history.history\n",
    "    loss_values = history_dict['loss']\n",
    "    val_loss_values = history_dict['val_loss']\n",
    "    \n",
    "    print_figure(loss_values, val_loss_values, 'Loss')"
   ]
  },
  {
   "cell_type": "code",
   "execution_count": null,
   "metadata": {
    "colab": {
     "autoexec": {
      "startup": false,
      "wait_interval": 0
     }
    },
    "colab_type": "code",
    "id": "Maj80DYFvkgS"
   },
   "outputs": [],
   "source": [
    "def print_acc(history):\n",
    "    history_dict = history.history\n",
    "    acc_values = history_dict['accuracy']\n",
    "    val_acc_values = history_dict['val_accuracy']\n",
    "    \n",
    "    print_figure(acc_values, val_acc_values, 'Accuracy')"
   ]
  },
  {
   "cell_type": "code",
   "execution_count": null,
   "metadata": {
    "colab": {
     "autoexec": {
      "startup": false,
      "wait_interval": 0
     }
    },
    "colab_type": "code",
    "id": "42nMRE_AFuKH"
   },
   "outputs": [],
   "source": [
    "# Simple Neural Network\n",
    "model = models.Sequential()\n",
    "model.add(layers.Dense(32, activation='relu', input_shape=(4,)))\n",
    "model.add(layers.Dense(32, activation='relu'))\n",
    "model.add(layers.Dense(3, activation='softmax'))"
   ]
  },
  {
   "cell_type": "code",
   "execution_count": null,
   "metadata": {
    "colab": {
     "autoexec": {
      "startup": false,
      "wait_interval": 0
     }
    },
    "colab_type": "code",
    "id": "uNuCvfkbFuKK"
   },
   "outputs": [],
   "source": [
    "model.compile(optimizer='rmsprop',\n",
    "              loss='categorical_crossentropy',\n",
    "              metrics=['accuracy'])"
   ]
  },
  {
   "cell_type": "code",
   "execution_count": null,
   "metadata": {
    "colab": {
     "autoexec": {
      "startup": false,
      "wait_interval": 0
     }
    },
    "colab_type": "code",
    "id": "46HuOdMPFuKO"
   },
   "outputs": [],
   "source": [
    "x_val = x_train[:50]\n",
    "partial_x_train = x_train[50:]\n",
    "\n",
    "y_val = Y_train[:50]\n",
    "partial_y_train = Y_train[50:]"
   ]
  },
  {
   "cell_type": "code",
   "execution_count": null,
   "metadata": {
    "colab": {
     "autoexec": {
      "startup": false,
      "wait_interval": 0
     },
     "base_uri": "https://localhost:8080/",
     "height": 36
    },
    "colab_type": "code",
    "executionInfo": {
     "elapsed": 629,
     "status": "ok",
     "timestamp": 1525300183530,
     "user": {
      "displayName": "Ramiro Savoie",
      "photoUrl": "//lh6.googleusercontent.com/-nvircRVyhys/AAAAAAAAAAI/AAAAAAAAkZc/bDG7THSJMxQ/s50-c-k-no/photo.jpg",
      "userId": "103932675305159588469"
     },
     "user_tz": 180
    },
    "id": "iORm3TGSFuKV",
    "outputId": "0b56a0cf-7f11-4d8d-9f7a-2e3f8fc733f8"
   },
   "outputs": [],
   "source": [
    "partial_x_train.shape"
   ]
  },
  {
   "cell_type": "code",
   "execution_count": null,
   "metadata": {
    "colab": {
     "autoexec": {
      "startup": false,
      "wait_interval": 0
     },
     "base_uri": "https://localhost:8080/",
     "height": 36
    },
    "colab_type": "code",
    "executionInfo": {
     "elapsed": 721,
     "status": "ok",
     "timestamp": 1525300185667,
     "user": {
      "displayName": "Ramiro Savoie",
      "photoUrl": "//lh6.googleusercontent.com/-nvircRVyhys/AAAAAAAAAAI/AAAAAAAAkZc/bDG7THSJMxQ/s50-c-k-no/photo.jpg",
      "userId": "103932675305159588469"
     },
     "user_tz": 180
    },
    "id": "xVGVfBo3FuKa",
    "outputId": "44628dbd-291b-49bd-9c9c-0501a5bebf79"
   },
   "outputs": [],
   "source": [
    "partial_y_train.shape"
   ]
  },
  {
   "cell_type": "code",
   "execution_count": null,
   "metadata": {
    "colab": {
     "autoexec": {
      "startup": false,
      "wait_interval": 0
     },
     "base_uri": "https://localhost:8080/",
     "height": 1214
    },
    "colab_type": "code",
    "executionInfo": {
     "elapsed": 2832,
     "status": "ok",
     "timestamp": 1525300188687,
     "user": {
      "displayName": "Ramiro Savoie",
      "photoUrl": "//lh6.googleusercontent.com/-nvircRVyhys/AAAAAAAAAAI/AAAAAAAAkZc/bDG7THSJMxQ/s50-c-k-no/photo.jpg",
      "userId": "103932675305159588469"
     },
     "user_tz": 180
    },
    "id": "--nFa5GMFuKe",
    "outputId": "72261730-a1a9-48ed-e221-36cee24bdab3"
   },
   "outputs": [],
   "source": [
    "%time history = model.fit(partial_x_train, partial_y_train, epochs=30, batch_size=10, validation_data=(x_val, y_val))"
   ]
  },
  {
   "cell_type": "code",
   "execution_count": null,
   "metadata": {},
   "outputs": [],
   "source": [
    "# Serialize model to JSON\n",
    "file_name = 'model.json'\n",
    "model_json = model.to_json()"
   ]
  },
  {
   "cell_type": "code",
   "execution_count": null,
   "metadata": {},
   "outputs": [],
   "source": [
    "# Network architecture\n",
    "model_json"
   ]
  },
  {
   "cell_type": "code",
   "execution_count": null,
   "metadata": {},
   "outputs": [],
   "source": [
    "with open(os.path.join(FOLDER, file_name), \"w\") as json_file:\n",
    "    json_file.write(model_json)\n",
    "au.upload_to_s3(BUCKET_NAME, FOLDER, file_name) \n",
    "print(\"Saved model definition to disk\")"
   ]
  },
  {
   "cell_type": "code",
   "execution_count": null,
   "metadata": {},
   "outputs": [],
   "source": [
    "# Serialize weights to HDF5\n",
    "file_name = 'model.h5'\n",
    "model.save_weights(os.path.join(FOLDER, file_name))\n",
    "au.upload_to_s3(BUCKET_NAME, FOLDER, file_name) \n",
    "print(\"Saved model weights to disk\")"
   ]
  },
  {
   "cell_type": "code",
   "execution_count": null,
   "metadata": {},
   "outputs": [],
   "source": [
    "# Check in S3 UI"
   ]
  },
  {
   "cell_type": "code",
   "execution_count": null,
   "metadata": {
    "colab": {
     "autoexec": {
      "startup": false,
      "wait_interval": 0
     },
     "base_uri": "https://localhost:8080/",
     "height": 295
    },
    "colab_type": "code",
    "executionInfo": {
     "elapsed": 1211,
     "status": "ok",
     "timestamp": 1525300195088,
     "user": {
      "displayName": "Ramiro Savoie",
      "photoUrl": "//lh6.googleusercontent.com/-nvircRVyhys/AAAAAAAAAAI/AAAAAAAAkZc/bDG7THSJMxQ/s50-c-k-no/photo.jpg",
      "userId": "103932675305159588469"
     },
     "user_tz": 180
    },
    "id": "ENMZdzVBvkgl",
    "outputId": "0c07e521-6d29-449b-fb90-eb8495a3c3ab"
   },
   "outputs": [],
   "source": [
    "print_loss(history)"
   ]
  },
  {
   "cell_type": "code",
   "execution_count": null,
   "metadata": {
    "colab": {
     "autoexec": {
      "startup": false,
      "wait_interval": 0
     },
     "base_uri": "https://localhost:8080/",
     "height": 295
    },
    "colab_type": "code",
    "executionInfo": {
     "elapsed": 1025,
     "status": "ok",
     "timestamp": 1525300201456,
     "user": {
      "displayName": "Ramiro Savoie",
      "photoUrl": "//lh6.googleusercontent.com/-nvircRVyhys/AAAAAAAAAAI/AAAAAAAAkZc/bDG7THSJMxQ/s50-c-k-no/photo.jpg",
      "userId": "103932675305159588469"
     },
     "user_tz": 180
    },
    "id": "wxU2ycUUvkgq",
    "outputId": "23e7966e-105b-43c7-d56b-de5b68e476ac"
   },
   "outputs": [],
   "source": [
    "print_acc(history)"
   ]
  },
  {
   "cell_type": "code",
   "execution_count": null,
   "metadata": {},
   "outputs": [],
   "source": [
    "# TODO Part 3, uncomment all Part 3 in flask predictions.predict()"
   ]
  },
  {
   "cell_type": "code",
   "execution_count": null,
   "metadata": {},
   "outputs": [],
   "source": [
    "# Browser\n",
    "req.get('http://localhost:5000/classify?sepal_length=5.1&sepal_width=3.5&petal_length=1.4&petal_width=0.2').json()"
   ]
  },
  {
   "cell_type": "markdown",
   "metadata": {},
   "source": [
    "```bash\n",
    "# Stop service in instance\n",
    "\n",
    "# Local: Zip the new app\n",
    "zip -r models-in-production.zip app.py predictions.py aws_utils.py config.py requirements.txt dist\n",
    "\n",
    "# Local: Upload the new packaged app\n",
    "scp models-in-production.zip ubuntu@ubuntu@ec2-3-16-22-139.us-east-2.compute.amazonaws.com:/home/ubuntu\n",
    "\n",
    "# Cloud\n",
    "unzip -o models-in-production.zip\n",
    "\n",
    "# Cloud: restart service\n",
    "python app.py\n",
    "```"
   ]
  },
  {
   "cell_type": "code",
   "execution_count": null,
   "metadata": {},
   "outputs": [],
   "source": [
    "# Browser with Public DNS.\n",
    "req.get('http://ec2-35-167-97-63.us-west-2.compute.amazonaws.com:5000/classify?sepal_length=5.1&sepal_width=3.5&petal_length=1.4&petal_width=0.2').json()"
   ]
  },
  {
   "cell_type": "markdown",
   "metadata": {},
   "source": [
    "## Serverless"
   ]
  },
  {
   "cell_type": "markdown",
   "metadata": {},
   "source": [
    "```bash\n",
    "# Clean Virtual Environment\n",
    "rm -rf env\n",
    "\n",
    "# Sk-learn version\n",
    "git reset --hard\n",
    "git checkout zappa\n",
    "\n",
    "# New  Virtual Environment\n",
    "virtualenv env --python=python3.7\n",
    "source env/bin/activate\n",
    "pip3 install -r requirements.txt\n",
    "\n",
    "# Inside virtual environment\n",
    "pip install zappa\n",
    "\n",
    "# Generate config file\n",
    "zappa init\n",
    "\n",
    "# Add\n",
    "# \"s3_bucket\": \"models-in-prod\",\n",
    "# \"slim_handler\": true\n",
    "\n",
    "# First deploy\n",
    "zappa deploy dev\n",
    "\n",
    "# Later deploys\n",
    "zappa update dev\n",
    "```"
   ]
  },
  {
   "cell_type": "markdown",
   "metadata": {},
   "source": [
    "![zappa-live](img/zappa-live-white.png)"
   ]
  },
  {
   "cell_type": "code",
   "execution_count": null,
   "metadata": {},
   "outputs": [],
   "source": [
    "%%time\n",
    "req.get('https://4j4x4rgjkd.execute-api.us-east-2.amazonaws.com/dev/classify?sepal_length=5.1&sepal_width=3.5&petal_length=1.4&petal_width=0.2').json()"
   ]
  }
 ],
 "metadata": {
  "accelerator": "GPU",
  "colab": {
   "collapsed_sections": [
    "PsJ_uFOr-7ex",
    "AxXlazZWVd-C"
   ],
   "default_view": {},
   "name": "Desafío I.ipynb",
   "provenance": [],
   "version": "0.3.2",
   "views": {}
  },
  "kernelspec": {
   "display_name": "Python 3",
   "language": "python",
   "name": "python3"
  },
  "language_info": {
   "codemirror_mode": {
    "name": "ipython",
    "version": 3
   },
   "file_extension": ".py",
   "mimetype": "text/x-python",
   "name": "python",
   "nbconvert_exporter": "python",
   "pygments_lexer": "ipython3",
   "version": "3.7.6"
  }
 },
 "nbformat": 4,
 "nbformat_minor": 4
}
